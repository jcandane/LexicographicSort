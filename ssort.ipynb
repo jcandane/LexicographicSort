{
  "nbformat": 4,
  "nbformat_minor": 0,
  "metadata": {
    "colab": {
      "provenance": [],
      "authorship_tag": "ABX9TyMFXnVhtLHTL5+nYAqgQ5lu",
      "include_colab_link": true
    },
    "kernelspec": {
      "name": "python3",
      "display_name": "Python 3"
    },
    "language_info": {
      "name": "python"
    }
  },
  "cells": [
    {
      "cell_type": "markdown",
      "metadata": {
        "id": "view-in-github",
        "colab_type": "text"
      },
      "source": [
        "<a href=\"https://colab.research.google.com/github/jcandane/LexicographicSort/blob/main/ssort.ipynb\" target=\"_parent\"><img src=\"https://colab.research.google.com/assets/colab-badge.svg\" alt=\"Open In Colab\"/></a>"
      ]
    },
    {
      "cell_type": "code",
      "execution_count": 1,
      "metadata": {
        "id": "5uwdcCACIZRa"
      },
      "outputs": [],
      "source": [
        "import numpy as np\n",
        "import time\n",
        "from numba import njit\n",
        "import matplotlib.pyplot as plt"
      ]
    },
    {
      "cell_type": "code",
      "source": [
        "!pip3 install tikzplotlib\n",
        "!git clone https://github.com/jcandane/pyprototyp\n",
        "\n"
      ],
      "metadata": {
        "colab": {
          "base_uri": "https://localhost:8080/"
        },
        "id": "HTS2gfQjlIEg",
        "outputId": "8d31a777-b24d-4c1a-a027-89cff4c38825"
      },
      "execution_count": 19,
      "outputs": [
        {
          "output_type": "stream",
          "name": "stdout",
          "text": [
            "Looking in indexes: https://pypi.org/simple, https://us-python.pkg.dev/colab-wheels/public/simple/\n",
            "Requirement already satisfied: tikzplotlib in /usr/local/lib/python3.8/dist-packages (0.10.1)\n",
            "Requirement already satisfied: numpy in /usr/local/lib/python3.8/dist-packages (from tikzplotlib) (1.21.6)\n",
            "Requirement already satisfied: Pillow in /usr/local/lib/python3.8/dist-packages (from tikzplotlib) (7.1.2)\n",
            "Requirement already satisfied: webcolors in /usr/local/lib/python3.8/dist-packages (from tikzplotlib) (1.12)\n",
            "Requirement already satisfied: matplotlib>=1.4.0 in /usr/local/lib/python3.8/dist-packages (from tikzplotlib) (3.2.2)\n",
            "Requirement already satisfied: cycler>=0.10 in /usr/local/lib/python3.8/dist-packages (from matplotlib>=1.4.0->tikzplotlib) (0.11.0)\n",
            "Requirement already satisfied: kiwisolver>=1.0.1 in /usr/local/lib/python3.8/dist-packages (from matplotlib>=1.4.0->tikzplotlib) (1.4.4)\n",
            "Requirement already satisfied: pyparsing!=2.0.4,!=2.1.2,!=2.1.6,>=2.0.1 in /usr/local/lib/python3.8/dist-packages (from matplotlib>=1.4.0->tikzplotlib) (3.0.9)\n",
            "Requirement already satisfied: python-dateutil>=2.1 in /usr/local/lib/python3.8/dist-packages (from matplotlib>=1.4.0->tikzplotlib) (2.8.2)\n",
            "Requirement already satisfied: six>=1.5 in /usr/local/lib/python3.8/dist-packages (from python-dateutil>=2.1->matplotlib>=1.4.0->tikzplotlib) (1.15.0)\n",
            "fatal: destination path 'pyprototyp' already exists and is not an empty directory.\n"
          ]
        }
      ]
    },
    {
      "cell_type": "code",
      "source": [
        "import tikzplotlib\n",
        "from pyprototyp.pyprototyp import pyprototyp"
      ],
      "metadata": {
        "id": "DSldeimnlwFf"
      },
      "execution_count": 20,
      "outputs": []
    },
    {
      "cell_type": "markdown",
      "source": [
        "## binary search"
      ],
      "metadata": {
        "id": "3rR8mqZnJLpr"
      }
    },
    {
      "cell_type": "code",
      "source": [
        "@njit ## for numba (comment out if not needed)\n",
        "def L_binarysearch(A, T, L=0, R=None):\n",
        "    \"\"\"\n",
        "    np.searchsorted has no contraints, i.e. L nor R\n",
        "    GIVEN:  A (1d sorted numpy.array)\n",
        "            T (searched for entry)\n",
        "            *L (lowest  index to search for)\n",
        "            *R (highest index to search for)\n",
        "    GET:    L (left-(lowest) most index of entry)\n",
        "    \"\"\"\n",
        "    if R is None:\n",
        "        R = len(A)\n",
        "    while L < R:\n",
        "        m = (L + R) // 2\n",
        "        if A[m] < T:\n",
        "            L = m + 1\n",
        "        else:\n",
        "            R = m\n",
        "    return L\n",
        "\n",
        "@njit ## for numba (comment out if not needed)\n",
        "def R_binarysearch(A, T, L=0, R=None):\n",
        "    \"\"\"\n",
        "    np.searchsorted has no contraints, i.e. L nor R\n",
        "    GIVEN:  A (1d sorted numpy.array)\n",
        "            T (searched for entry)\n",
        "            *L (lowest  index to search for)\n",
        "            *R (highest index to search for)\n",
        "    GET:    R (right-(highest) most index of entry)\n",
        "    \"\"\"\n",
        "    if R is None:\n",
        "        R = len(A)\n",
        "    while L < R:\n",
        "        m = (L + R) // 2\n",
        "        if A[m] > T:\n",
        "            R = m\n",
        "        else:\n",
        "            L = m + 1\n",
        "    return R\n",
        "\n",
        "@njit ## for numba (comment out if not needed)\n",
        "def interval_binarysearch(A, value, L=0, R=None):\n",
        "    return L_binarysearch(A, value, L=L, R=R), R_binarysearch(A, value, L=L, R=R)\n",
        "\n",
        "@njit ## for numba (comment out if not needed)\n",
        "def tuplebsearch_interval(B, value, L=0, R=None):\n",
        "    for columns in range(B.shape[0]): ### over entries/columns of the tuple\n",
        "        L, R = interval_binarysearch(B[columns,:], value[columns], L=L, R=R)\n",
        "    return L, R"
      ],
      "metadata": {
        "id": "b8YTk77IIgOs"
      },
      "execution_count": 4,
      "outputs": []
    },
    {
      "cell_type": "markdown",
      "source": [
        "## domain finder"
      ],
      "metadata": {
        "id": "tzREJ5UeJpwn"
      }
    },
    {
      "cell_type": "code",
      "source": [
        "def linear_domain(A):\n",
        "    \"\"\"\n",
        "    GIVEN:  A (sorted 1d numpy array)\n",
        "    GET:    domains (sorted 1d numpy array, ranges of unique elements)\n",
        "    \"\"\"\n",
        "    domain = np.where( np.diff( A , prepend=-1, append=len(A)) != 0)[0]\n",
        "    return domain\n",
        "\n",
        "def log_domain(A):\n",
        "    \"\"\"\n",
        "    GIVEN:  A (sorted 1d numpy array)\n",
        "    GET:    domains (sorted 1d numpy array, ranges of unique elements)\n",
        "    \"\"\"\n",
        "    domain = [0]\n",
        "    while domain[-1]!=len(A):\n",
        "        domain.append( R_binarysearch(A, A[domain[-1]], L=domain[-1], R=None) )\n",
        "    return np.asarray(domain)\n",
        "\n",
        "def domain_finder(A):\n",
        "    \"\"\"\n",
        "    GIVEN:  A (sorted 1d numpy array)\n",
        "    GET:    domains (sorted 1d numpy array, ranges of unique elements)\n",
        "    \"\"\"\n",
        "    if (A[-1]-A[0]) < len(A).bit_length() - 1:\n",
        "        return log_domain(A) # log_domain_finder(A)\n",
        "    else:\n",
        "        return linear_domain(A) # linear_domain_finder(A)\n",
        "\n",
        "\n",
        "\n",
        "B = np.sort( np.random.randint(15, size=100) )\n",
        "print(B)\n",
        "\n",
        "print( linear_domain(B) )\n",
        "print( log_domain(B) )\n",
        "print( domain_finder(B) )"
      ],
      "metadata": {
        "id": "mJJ8qC0pJrDI",
        "colab": {
          "base_uri": "https://localhost:8080/"
        },
        "outputId": "de15fad8-600a-4e72-b94b-c6c8941e21e1"
      },
      "execution_count": 5,
      "outputs": [
        {
          "output_type": "stream",
          "name": "stdout",
          "text": [
            "[ 0  0  0  0  0  1  1  1  1  1  1  2  2  2  2  2  2  2  2  2  3  3  3  3\n",
            "  3  3  3  4  4  4  4  4  4  4  4  5  5  6  6  6  6  6  6  6  6  6  6  7\n",
            "  7  7  7  8  8  8  8  8  8  8  8  9  9  9  9  9  9  9  9  9  9 10 10 10\n",
            " 10 10 10 10 11 11 11 11 11 12 12 12 12 12 12 13 13 13 13 13 13 13 13 14\n",
            " 14 14 14 14]\n",
            "[  0   5  11  20  27  35  37  47  51  59  69  76  81  87  95 100]\n",
            "[  0   5  11  20  27  35  37  47  51  59  69  76  81  87  95 100]\n",
            "[  0   5  11  20  27  35  37  47  51  59  69  76  81  87  95 100]\n"
          ]
        }
      ]
    },
    {
      "cell_type": "markdown",
      "source": [
        "## lexicographic sort"
      ],
      "metadata": {
        "id": "aAkVcQv9JNnT"
      }
    },
    {
      "cell_type": "code",
      "source": [
        "def ssort(A, return_unique=False):\n",
        "    \"\"\"\n",
        "    GIVEN:  A (2d numpy array of shape (tuple, list))\n",
        "            *return_unique (boolean, choice to output indices and uniques)\n",
        "    GET:    A lexicographically-sorted along 2nd (list) index.\n",
        "    \"\"\"\n",
        "\n",
        "    ARG = np.argsort(A[0] , kind=\"mergesort\")\n",
        "    A   = A[:,ARG]\n",
        "    \n",
        "    ikk = np.array([], dtype=np.int32)\n",
        "    for k in range(1,len(A)):\n",
        "        ik = np.where( np.diff(A[k-1], prepend=A[k-1,0]-1, append=A[k-1,-1]+1) != 0)[0]\n",
        "        ik = np.union1d(ikk, ik)\n",
        "        for l in range(len(ik)-1): ## For\n",
        "            argssort = np.argsort(A[k,ik[l]:ik[l+1]] , kind=\"mergesort\")\n",
        "            A[:,ik[l]:ik[l+1]] = (A[:,ik[l]:ik[l+1]])[:,argssort]\n",
        "            ARG[ik[l]:ik[l+1]] = (ARG[ik[l]:ik[l+1]])[argssort]\n",
        "        ikk = 1*ik\n",
        "\n",
        "    k = len(A)-1 ## 8/30\n",
        "    if return_unique:\n",
        "        return A, ARG, ik\n",
        "    return A"
      ],
      "metadata": {
        "id": "gduXg9ppJP1b"
      },
      "execution_count": 6,
      "outputs": []
    },
    {
      "cell_type": "markdown",
      "source": [
        "## tuple comparison"
      ],
      "metadata": {
        "id": "GMTJqOK54yev"
      }
    },
    {
      "cell_type": "code",
      "source": [
        "@njit\n",
        "def tuple_comparison(A,B): ## A < B?\n",
        "    for ba in (B-A):\n",
        "        if ba > 0: ## find the first nonzero positive entry\n",
        "            return True\n",
        "    return False\n",
        "\n",
        "tuple_a = np.array([1,2,3])\n",
        "tuple_b = np.array([1,1,3])\n",
        "\n",
        "print( tuple_comparison(tuple_b,tuple_a) )"
      ],
      "metadata": {
        "colab": {
          "base_uri": "https://localhost:8080/"
        },
        "id": "QIyU0jVkhW7P",
        "outputId": "59dfdae5-2f65-4b6c-8a70-170773e0953e"
      },
      "execution_count": 7,
      "outputs": [
        {
          "output_type": "stream",
          "name": "stdout",
          "text": [
            "True\n"
          ]
        }
      ]
    },
    {
      "cell_type": "markdown",
      "source": [
        "## random list-of-tuples"
      ],
      "metadata": {
        "id": "Q4laZgmFJRCz"
      }
    },
    {
      "cell_type": "code",
      "source": [
        "A = ssort( np.random.randint(10, size=(4,100)) )"
      ],
      "metadata": {
        "id": "vKfdataUJCIl"
      },
      "execution_count": 8,
      "outputs": []
    },
    {
      "cell_type": "markdown",
      "source": [
        "## binary search example"
      ],
      "metadata": {
        "id": "BUbHBLUv65-u"
      }
    },
    {
      "cell_type": "code",
      "source": [
        "LR = L_binarysearch(A[0], 5, L=0, R=None), R_binarysearch(A[0], 5, L=0, R=None)\n",
        "A[0,LR[0]:LR[1]]"
      ],
      "metadata": {
        "colab": {
          "base_uri": "https://localhost:8080/"
        },
        "id": "dIa_rmZ6JH7t",
        "outputId": "45313d27-7ccb-4b27-8a32-221af13cc2f6"
      },
      "execution_count": 9,
      "outputs": [
        {
          "output_type": "execute_result",
          "data": {
            "text/plain": [
              "array([5, 5, 5, 5, 5, 5, 5, 5, 5, 5])"
            ]
          },
          "metadata": {},
          "execution_count": 9
        }
      ]
    },
    {
      "cell_type": "markdown",
      "source": [
        "## testing ssort"
      ],
      "metadata": {
        "id": "PlmjZHfN7ptS"
      }
    },
    {
      "cell_type": "code",
      "source": [
        "AA = np.random.randint(100, size=(4,30000000))\n",
        "\n",
        "N = np.array([10,30,15,300,1500,3000,10000,30000,150000,300000,1500000,3000000, 15000000, 30000000, 100000000])\n",
        "y = np.zeros(len(N))\n",
        "for i in range(len(N)):\n",
        "    start = time.time()\n",
        "    ssort(np.random.randint(100, size=(4,N[i])))\n",
        "    y[i] = (time.time()-start)\n",
        "\n",
        "plt.plot(N,y, label=\"ssort\")\n",
        "plt.plot(N, (N*np.log(N))*0.00001, label=\"$\\sim N\\log N$\", linestyle=\"dashed\")\n",
        "plt.plot(N, (N)*0.00001, label=\"$\\sim N$\", linestyle=\"dashed\")\n",
        "plt.ylabel(\"time (s)\")\n",
        "plt.xlabel(\"size (N)\")\n",
        "plt.yscale('log')\n",
        "plt.xscale('log')\n",
        "plt.legend()\n",
        "tikzplotlib.save(\"mytikz.tex\")\n",
        "plt.show()"
      ],
      "metadata": {
        "id": "3rvGR_LFSwhK",
        "colab": {
          "base_uri": "https://localhost:8080/",
          "height": 283
        },
        "outputId": "1edcecda-fb72-437e-c312-ba5a871fce35"
      },
      "execution_count": 13,
      "outputs": [
        {
          "output_type": "display_data",
          "data": {
            "text/plain": [
              "<Figure size 432x288 with 1 Axes>"
            ],
            "image/png": "[encoded data removed]"
          },
          "metadata": {
            "needs_background": "light"
          }
        }
      ]
    },
    {
      "cell_type": "code",
      "source": [
        "pyprototyp(\"lexssort\", packages=[\"import time\",\"from numba import njit\"], useful=[], defs=[L_binarysearch, R_binarysearch, interval_binarysearch, tuplebsearch_interval, linear_domain, log_domain, domain_finder, ssort, tuple_comparison], classes=[])"
      ],
      "metadata": {
        "id": "T0Cqi4WY5uKo"
      },
      "execution_count": 22,
      "outputs": []
    },
    {
      "cell_type": "code",
      "source": [],
      "metadata": {
        "id": "3tXssp8P8i6H"
      },
      "execution_count": null,
      "outputs": []
    }
  ]
}